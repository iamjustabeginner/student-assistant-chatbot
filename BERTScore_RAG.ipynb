{
 "cells": [
  {
   "cell_type": "code",
   "execution_count": 1,
   "metadata": {},
   "outputs": [
    {
     "name": "stdout",
     "output_type": "stream",
     "text": [
      "Requirement already satisfied: pandas in /home/subin/.pyenv/versions/3.11.9/lib/python3.11/site-packages (2.2.3)\n",
      "Requirement already satisfied: sacrebleu in /home/subin/.pyenv/versions/3.11.9/lib/python3.11/site-packages (2.4.3)\n",
      "Requirement already satisfied: markdown in /home/subin/.pyenv/versions/3.11.9/lib/python3.11/site-packages (3.7)\n",
      "Requirement already satisfied: numpy>=1.23.2 in /home/subin/.pyenv/versions/3.11.9/lib/python3.11/site-packages (from pandas) (1.26.4)\n",
      "Requirement already satisfied: python-dateutil>=2.8.2 in /home/subin/.pyenv/versions/3.11.9/lib/python3.11/site-packages (from pandas) (2.8.2)\n",
      "Requirement already satisfied: pytz>=2020.1 in /home/subin/.pyenv/versions/3.11.9/lib/python3.11/site-packages (from pandas) (2024.2)\n",
      "Requirement already satisfied: tzdata>=2022.7 in /home/subin/.pyenv/versions/3.11.9/lib/python3.11/site-packages (from pandas) (2024.2)\n",
      "Requirement already satisfied: portalocker in /home/subin/.pyenv/versions/3.11.9/lib/python3.11/site-packages (from sacrebleu) (2.10.1)\n",
      "Requirement already satisfied: regex in /home/subin/.pyenv/versions/3.11.9/lib/python3.11/site-packages (from sacrebleu) (2024.9.11)\n",
      "Requirement already satisfied: tabulate>=0.8.9 in /home/subin/.pyenv/versions/3.11.9/lib/python3.11/site-packages (from sacrebleu) (0.9.0)\n",
      "Requirement already satisfied: colorama in /home/subin/.pyenv/versions/3.11.9/lib/python3.11/site-packages (from sacrebleu) (0.4.6)\n",
      "Requirement already satisfied: lxml in /home/subin/.pyenv/versions/3.11.9/lib/python3.11/site-packages (from sacrebleu) (5.3.0)\n",
      "Requirement already satisfied: six>=1.5 in /home/subin/.pyenv/versions/3.11.9/lib/python3.11/site-packages (from python-dateutil>=2.8.2->pandas) (1.16.0)\n",
      "\n",
      "\u001b[1m[\u001b[0m\u001b[34;49mnotice\u001b[0m\u001b[1;39;49m]\u001b[0m\u001b[39;49m A new release of pip is available: \u001b[0m\u001b[31;49m24.0\u001b[0m\u001b[39;49m -> \u001b[0m\u001b[32;49m24.3.1\u001b[0m\n",
      "\u001b[1m[\u001b[0m\u001b[34;49mnotice\u001b[0m\u001b[1;39;49m]\u001b[0m\u001b[39;49m To update, run: \u001b[0m\u001b[32;49mpip install --upgrade pip\u001b[0m\n",
      "Note: you may need to restart the kernel to use updated packages.\n"
     ]
    }
   ],
   "source": [
    "pip install pandas sacrebleu markdown"
   ]
  },
  {
   "cell_type": "code",
   "execution_count": 2,
   "metadata": {},
   "outputs": [
    {
     "name": "stdout",
     "output_type": "stream",
     "text": [
      "Requirement already satisfied: bert-score in /home/subin/.pyenv/versions/3.11.9/lib/python3.11/site-packages (0.3.13)\n",
      "Requirement already satisfied: torch>=1.0.0 in /home/subin/.pyenv/versions/3.11.9/lib/python3.11/site-packages (from bert-score) (2.5.1)\n",
      "Requirement already satisfied: pandas>=1.0.1 in /home/subin/.pyenv/versions/3.11.9/lib/python3.11/site-packages (from bert-score) (2.2.3)\n",
      "Requirement already satisfied: transformers>=3.0.0 in /home/subin/.pyenv/versions/3.11.9/lib/python3.11/site-packages (from bert-score) (4.46.1)\n",
      "Requirement already satisfied: numpy in /home/subin/.pyenv/versions/3.11.9/lib/python3.11/site-packages (from bert-score) (1.26.4)\n",
      "Requirement already satisfied: requests in /home/subin/.pyenv/versions/3.11.9/lib/python3.11/site-packages (from bert-score) (2.32.3)\n",
      "Requirement already satisfied: tqdm>=4.31.1 in /home/subin/.pyenv/versions/3.11.9/lib/python3.11/site-packages (from bert-score) (4.66.5)\n",
      "Requirement already satisfied: matplotlib in /home/subin/.pyenv/versions/3.11.9/lib/python3.11/site-packages (from bert-score) (3.9.2)\n",
      "Requirement already satisfied: packaging>=20.9 in /home/subin/.pyenv/versions/3.11.9/lib/python3.11/site-packages (from bert-score) (23.2)\n",
      "Requirement already satisfied: python-dateutil>=2.8.2 in /home/subin/.pyenv/versions/3.11.9/lib/python3.11/site-packages (from pandas>=1.0.1->bert-score) (2.8.2)\n",
      "Requirement already satisfied: pytz>=2020.1 in /home/subin/.pyenv/versions/3.11.9/lib/python3.11/site-packages (from pandas>=1.0.1->bert-score) (2024.2)\n",
      "Requirement already satisfied: tzdata>=2022.7 in /home/subin/.pyenv/versions/3.11.9/lib/python3.11/site-packages (from pandas>=1.0.1->bert-score) (2024.2)\n",
      "Requirement already satisfied: filelock in /home/subin/.pyenv/versions/3.11.9/lib/python3.11/site-packages (from torch>=1.0.0->bert-score) (3.16.1)\n",
      "Requirement already satisfied: typing-extensions>=4.8.0 in /home/subin/.pyenv/versions/3.11.9/lib/python3.11/site-packages (from torch>=1.0.0->bert-score) (4.12.2)\n",
      "Requirement already satisfied: networkx in /home/subin/.pyenv/versions/3.11.9/lib/python3.11/site-packages (from torch>=1.0.0->bert-score) (3.4.2)\n",
      "Requirement already satisfied: jinja2 in /home/subin/.pyenv/versions/3.11.9/lib/python3.11/site-packages (from torch>=1.0.0->bert-score) (3.1.4)\n",
      "Requirement already satisfied: fsspec in /home/subin/.pyenv/versions/3.11.9/lib/python3.11/site-packages (from torch>=1.0.0->bert-score) (2024.10.0)\n",
      "Requirement already satisfied: nvidia-cuda-nvrtc-cu12==12.4.127 in /home/subin/.pyenv/versions/3.11.9/lib/python3.11/site-packages (from torch>=1.0.0->bert-score) (12.4.127)\n",
      "Requirement already satisfied: nvidia-cuda-runtime-cu12==12.4.127 in /home/subin/.pyenv/versions/3.11.9/lib/python3.11/site-packages (from torch>=1.0.0->bert-score) (12.4.127)\n",
      "Requirement already satisfied: nvidia-cuda-cupti-cu12==12.4.127 in /home/subin/.pyenv/versions/3.11.9/lib/python3.11/site-packages (from torch>=1.0.0->bert-score) (12.4.127)\n",
      "Requirement already satisfied: nvidia-cudnn-cu12==9.1.0.70 in /home/subin/.pyenv/versions/3.11.9/lib/python3.11/site-packages (from torch>=1.0.0->bert-score) (9.1.0.70)\n",
      "Requirement already satisfied: nvidia-cublas-cu12==12.4.5.8 in /home/subin/.pyenv/versions/3.11.9/lib/python3.11/site-packages (from torch>=1.0.0->bert-score) (12.4.5.8)\n",
      "Requirement already satisfied: nvidia-cufft-cu12==11.2.1.3 in /home/subin/.pyenv/versions/3.11.9/lib/python3.11/site-packages (from torch>=1.0.0->bert-score) (11.2.1.3)\n",
      "Requirement already satisfied: nvidia-curand-cu12==10.3.5.147 in /home/subin/.pyenv/versions/3.11.9/lib/python3.11/site-packages (from torch>=1.0.0->bert-score) (10.3.5.147)\n",
      "Requirement already satisfied: nvidia-cusolver-cu12==11.6.1.9 in /home/subin/.pyenv/versions/3.11.9/lib/python3.11/site-packages (from torch>=1.0.0->bert-score) (11.6.1.9)\n",
      "Requirement already satisfied: nvidia-cusparse-cu12==12.3.1.170 in /home/subin/.pyenv/versions/3.11.9/lib/python3.11/site-packages (from torch>=1.0.0->bert-score) (12.3.1.170)\n",
      "Requirement already satisfied: nvidia-nccl-cu12==2.21.5 in /home/subin/.pyenv/versions/3.11.9/lib/python3.11/site-packages (from torch>=1.0.0->bert-score) (2.21.5)\n",
      "Requirement already satisfied: nvidia-nvtx-cu12==12.4.127 in /home/subin/.pyenv/versions/3.11.9/lib/python3.11/site-packages (from torch>=1.0.0->bert-score) (12.4.127)\n",
      "Requirement already satisfied: nvidia-nvjitlink-cu12==12.4.127 in /home/subin/.pyenv/versions/3.11.9/lib/python3.11/site-packages (from torch>=1.0.0->bert-score) (12.4.127)\n",
      "Requirement already satisfied: triton==3.1.0 in /home/subin/.pyenv/versions/3.11.9/lib/python3.11/site-packages (from torch>=1.0.0->bert-score) (3.1.0)\n",
      "Requirement already satisfied: sympy==1.13.1 in /home/subin/.pyenv/versions/3.11.9/lib/python3.11/site-packages (from torch>=1.0.0->bert-score) (1.13.1)\n",
      "Requirement already satisfied: mpmath<1.4,>=1.1.0 in /home/subin/.pyenv/versions/3.11.9/lib/python3.11/site-packages (from sympy==1.13.1->torch>=1.0.0->bert-score) (1.3.0)\n",
      "Requirement already satisfied: huggingface-hub<1.0,>=0.23.2 in /home/subin/.pyenv/versions/3.11.9/lib/python3.11/site-packages (from transformers>=3.0.0->bert-score) (0.26.2)\n",
      "Requirement already satisfied: pyyaml>=5.1 in /home/subin/.pyenv/versions/3.11.9/lib/python3.11/site-packages (from transformers>=3.0.0->bert-score) (6.0.2)\n",
      "Requirement already satisfied: regex!=2019.12.17 in /home/subin/.pyenv/versions/3.11.9/lib/python3.11/site-packages (from transformers>=3.0.0->bert-score) (2024.9.11)\n",
      "Requirement already satisfied: safetensors>=0.4.1 in /home/subin/.pyenv/versions/3.11.9/lib/python3.11/site-packages (from transformers>=3.0.0->bert-score) (0.4.5)\n",
      "Requirement already satisfied: tokenizers<0.21,>=0.20 in /home/subin/.pyenv/versions/3.11.9/lib/python3.11/site-packages (from transformers>=3.0.0->bert-score) (0.20.1)\n",
      "Requirement already satisfied: contourpy>=1.0.1 in /home/subin/.pyenv/versions/3.11.9/lib/python3.11/site-packages (from matplotlib->bert-score) (1.3.0)\n",
      "Requirement already satisfied: cycler>=0.10 in /home/subin/.pyenv/versions/3.11.9/lib/python3.11/site-packages (from matplotlib->bert-score) (0.12.1)\n",
      "Requirement already satisfied: fonttools>=4.22.0 in /home/subin/.pyenv/versions/3.11.9/lib/python3.11/site-packages (from matplotlib->bert-score) (4.54.1)\n",
      "Requirement already satisfied: kiwisolver>=1.3.1 in /home/subin/.pyenv/versions/3.11.9/lib/python3.11/site-packages (from matplotlib->bert-score) (1.4.7)\n",
      "Requirement already satisfied: pillow>=8 in /home/subin/.pyenv/versions/3.11.9/lib/python3.11/site-packages (from matplotlib->bert-score) (11.0.0)\n",
      "Requirement already satisfied: pyparsing>=2.3.1 in /home/subin/.pyenv/versions/3.11.9/lib/python3.11/site-packages (from matplotlib->bert-score) (3.2.0)\n",
      "Requirement already satisfied: charset-normalizer<4,>=2 in /home/subin/.pyenv/versions/3.11.9/lib/python3.11/site-packages (from requests->bert-score) (3.4.0)\n",
      "Requirement already satisfied: idna<4,>=2.5 in /home/subin/.pyenv/versions/3.11.9/lib/python3.11/site-packages (from requests->bert-score) (3.10)\n",
      "Requirement already satisfied: urllib3<3,>=1.21.1 in /home/subin/.pyenv/versions/3.11.9/lib/python3.11/site-packages (from requests->bert-score) (2.2.3)\n",
      "Requirement already satisfied: certifi>=2017.4.17 in /home/subin/.pyenv/versions/3.11.9/lib/python3.11/site-packages (from requests->bert-score) (2024.8.30)\n",
      "Requirement already satisfied: six>=1.5 in /home/subin/.pyenv/versions/3.11.9/lib/python3.11/site-packages (from python-dateutil>=2.8.2->pandas>=1.0.1->bert-score) (1.16.0)\n",
      "Requirement already satisfied: MarkupSafe>=2.0 in /home/subin/.pyenv/versions/3.11.9/lib/python3.11/site-packages (from jinja2->torch>=1.0.0->bert-score) (3.0.2)\n",
      "\n",
      "\u001b[1m[\u001b[0m\u001b[34;49mnotice\u001b[0m\u001b[1;39;49m]\u001b[0m\u001b[39;49m A new release of pip is available: \u001b[0m\u001b[31;49m24.0\u001b[0m\u001b[39;49m -> \u001b[0m\u001b[32;49m24.3.1\u001b[0m\n",
      "\u001b[1m[\u001b[0m\u001b[34;49mnotice\u001b[0m\u001b[1;39;49m]\u001b[0m\u001b[39;49m To update, run: \u001b[0m\u001b[32;49mpip install --upgrade pip\u001b[0m\n",
      "Note: you may need to restart the kernel to use updated packages.\n"
     ]
    }
   ],
   "source": [
    "pip install bert-score\n"
   ]
  },
  {
   "cell_type": "code",
   "execution_count": 3,
   "metadata": {},
   "outputs": [
    {
     "name": "stdout",
     "output_type": "stream",
     "text": [
      "Requirement already satisfied: beautifulsoup4 in /home/subin/.pyenv/versions/3.11.9/lib/python3.11/site-packages (4.12.3)\n",
      "Requirement already satisfied: soupsieve>1.2 in /home/subin/.pyenv/versions/3.11.9/lib/python3.11/site-packages (from beautifulsoup4) (2.6)\n",
      "\n",
      "\u001b[1m[\u001b[0m\u001b[34;49mnotice\u001b[0m\u001b[1;39;49m]\u001b[0m\u001b[39;49m A new release of pip is available: \u001b[0m\u001b[31;49m24.0\u001b[0m\u001b[39;49m -> \u001b[0m\u001b[32;49m24.3.1\u001b[0m\n",
      "\u001b[1m[\u001b[0m\u001b[34;49mnotice\u001b[0m\u001b[1;39;49m]\u001b[0m\u001b[39;49m To update, run: \u001b[0m\u001b[32;49mpip install --upgrade pip\u001b[0m\n"
     ]
    }
   ],
   "source": [
    "!pip install beautifulsoup4\n"
   ]
  },
  {
   "cell_type": "code",
   "execution_count": 4,
   "metadata": {},
   "outputs": [],
   "source": [
    "import pandas as pd\n",
    "import markdown\n",
    "from bs4 import BeautifulSoup\n",
    "import glob\n",
    "import os\n",
    "from bert_score import score"
   ]
  },
  {
   "cell_type": "code",
   "execution_count": 6,
   "metadata": {},
   "outputs": [
    {
     "name": "stdout",
     "output_type": "stream",
     "text": [
      "Warning: scraped_data_1717508117.md not found in markdown folder\n"
     ]
    },
    {
     "data": {
      "application/vnd.jupyter.widget-view+json": {
       "model_id": "74290a53e9bc4312abccecd2acce1513",
       "version_major": 2,
       "version_minor": 0
      },
      "text/plain": [
       "tokenizer_config.json:   0%|          | 0.00/25.0 [00:00<?, ?B/s]"
      ]
     },
     "metadata": {},
     "output_type": "display_data"
    },
    {
     "data": {
      "application/vnd.jupyter.widget-view+json": {
       "model_id": "ada01e517d784a5da6cdbeed6ef8edce",
       "version_major": 2,
       "version_minor": 0
      },
      "text/plain": [
       "config.json:   0%|          | 0.00/482 [00:00<?, ?B/s]"
      ]
     },
     "metadata": {},
     "output_type": "display_data"
    },
    {
     "data": {
      "application/vnd.jupyter.widget-view+json": {
       "model_id": "0b97fa156dd7421085ecf4b16133cb6d",
       "version_major": 2,
       "version_minor": 0
      },
      "text/plain": [
       "vocab.json:   0%|          | 0.00/899k [00:00<?, ?B/s]"
      ]
     },
     "metadata": {},
     "output_type": "display_data"
    },
    {
     "data": {
      "application/vnd.jupyter.widget-view+json": {
       "model_id": "522d9de8e47044a8a24cd268b956eaf7",
       "version_major": 2,
       "version_minor": 0
      },
      "text/plain": [
       "merges.txt:   0%|          | 0.00/456k [00:00<?, ?B/s]"
      ]
     },
     "metadata": {},
     "output_type": "display_data"
    },
    {
     "data": {
      "application/vnd.jupyter.widget-view+json": {
       "model_id": "07f2afe4304441508787413037d7ffdc",
       "version_major": 2,
       "version_minor": 0
      },
      "text/plain": [
       "tokenizer.json:   0%|          | 0.00/1.36M [00:00<?, ?B/s]"
      ]
     },
     "metadata": {},
     "output_type": "display_data"
    },
    {
     "data": {
      "application/vnd.jupyter.widget-view+json": {
       "model_id": "934de6fa68a14481b79cedd1a03f79ab",
       "version_major": 2,
       "version_minor": 0
      },
      "text/plain": [
       "model.safetensors:   0%|          | 0.00/1.42G [00:00<?, ?B/s]"
      ]
     },
     "metadata": {},
     "output_type": "display_data"
    },
    {
     "name": "stderr",
     "output_type": "stream",
     "text": [
      "Some weights of RobertaModel were not initialized from the model checkpoint at roberta-large and are newly initialized: ['roberta.pooler.dense.bias', 'roberta.pooler.dense.weight']\n",
      "You should probably TRAIN this model on a down-stream task to be able to use it for predictions and inference.\n"
     ]
    },
    {
     "name": "stdout",
     "output_type": "stream",
     "text": [
      "calculating scores...\n",
      "computing bert embedding.\n"
     ]
    },
    {
     "data": {
      "application/vnd.jupyter.widget-view+json": {
       "model_id": "2f9d1c6b3cc04fdabd5c0ae769f9b12e",
       "version_major": 2,
       "version_minor": 0
      },
      "text/plain": [
       "  0%|          | 0/7 [00:00<?, ?it/s]"
      ]
     },
     "metadata": {},
     "output_type": "display_data"
    },
    {
     "name": "stdout",
     "output_type": "stream",
     "text": [
      "computing greedy matching.\n"
     ]
    },
    {
     "data": {
      "application/vnd.jupyter.widget-view+json": {
       "model_id": "a05c1053c2cb4a68bc4d840c2fc4b923",
       "version_major": 2,
       "version_minor": 0
      },
      "text/plain": [
       "  0%|          | 0/4 [00:00<?, ?it/s]"
      ]
     },
     "metadata": {},
     "output_type": "display_data"
    },
    {
     "name": "stdout",
     "output_type": "stream",
     "text": [
      "done in 8.34 seconds, 23.38 sentences/sec\n",
      "Average BERTScore F1: 0.8504440188407898\n"
     ]
    }
   ],
   "source": [
    "# Load the CSV file containing the generated answers\n",
    "llm_answers = pd.read_csv('/home/subin/Desktop/subin/llm_answers.csv')\n",
    "\n",
    "# Function to extract text from Markdown files\n",
    "def extract_text_from_markdown(file_path):\n",
    "    with open(file_path, 'r') as file:\n",
    "        md_content = file.read()\n",
    "    # Convert Markdown to HTML\n",
    "    html_content = markdown.markdown(md_content)\n",
    "    # Parse the HTML content with BeautifulSoup\n",
    "    soup = BeautifulSoup(html_content, 'html.parser')\n",
    "    # Extract and return text\n",
    "    return soup.get_text()\n",
    "\n",
    "# Load and extract text from all Markdown files\n",
    "markdown_folder = '/home/subin/Desktop/subin/ritsu_bot/markdown_files'\n",
    "all_reference_texts = {}\n",
    "for file_path in glob.glob(os.path.join(markdown_folder, '*.md')):\n",
    "    filename = os.path.basename(file_path)\n",
    "    all_reference_texts[filename] = extract_text_from_markdown(file_path).strip()\n",
    "\n",
    "# Extract reference texts and generated answers for BERTScore\n",
    "references = []\n",
    "hypotheses = llm_answers['Answer'].str.strip().tolist()\n",
    "\n",
    "for index, row in llm_answers.iterrows():\n",
    "    filename = row['Filename']\n",
    "    if filename in all_reference_texts:\n",
    "        reference_text = all_reference_texts[filename]\n",
    "    else:\n",
    "        print(f\"Warning: {filename} not found in markdown folder\")\n",
    "        reference_text = \"\"  # Assign empty text or handle as needed\n",
    "    references.append(reference_text)\n",
    "\n",
    "# Filter out empty references and corresponding hypotheses\n",
    "filtered_references = [ref for ref in references if ref]\n",
    "filtered_hypotheses = [hyp for ref, hyp in zip(references, hypotheses) if ref]\n",
    "\n",
    "# Calculate BERTScore\n",
    "P, R, F1 = score(filtered_hypotheses, filtered_references, lang=\"en\", verbose=True)\n",
    "\n",
    "# Average F1 score\n",
    "average_f1 = F1.mean().item()\n",
    "print(f\"Average BERTScore F1: {average_f1}\")\n",
    "\n",
    "# Add the BERT F1 scores to the DataFrame\n",
    "llm_answers['BERTScore F1'] = F1.tolist() + [None] * (len(hypotheses) - len(F1))\n",
    "\n",
    "# Save the results to a new CSV file\n",
    "llm_answers.to_csv('/home/subin/Desktop/subin/BERTScore.csv', index=False)"
   ]
  }
 ],
 "metadata": {
  "kernelspec": {
   "display_name": "Python 3",
   "language": "python",
   "name": "python3"
  },
  "language_info": {
   "codemirror_mode": {
    "name": "ipython",
    "version": 3
   },
   "file_extension": ".py",
   "mimetype": "text/x-python",
   "name": "python",
   "nbconvert_exporter": "python",
   "pygments_lexer": "ipython3",
   "version": "3.11.9"
  }
 },
 "nbformat": 4,
 "nbformat_minor": 2
}
